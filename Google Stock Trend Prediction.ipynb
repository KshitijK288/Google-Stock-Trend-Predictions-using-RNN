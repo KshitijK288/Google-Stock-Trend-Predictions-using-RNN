{
 "cells": [
  {
   "cell_type": "code",
   "execution_count": 1,
   "id": "4458a36a-2fe2-4c2e-bced-3aadd0485aae",
   "metadata": {},
   "outputs": [],
   "source": [
    "import yfinance as yf\n",
    "from datetime import datetime, timedelta"
   ]
  },
  {
   "cell_type": "code",
   "execution_count": 2,
   "id": "3db171a4-7656-4526-b6d8-63e05f218ef9",
   "metadata": {},
   "outputs": [
    {
     "name": "stderr",
     "output_type": "stream",
     "text": [
      "[*********************100%***********************]  1 of 1 completed\n"
     ]
    }
   ],
   "source": [
    "end_date = datetime.now()\n",
    "start_date = end_date - timedelta(days = 365 * 10)\n",
    "google_data = yf.download('GOOGL', start=start_date, end=end_date)"
   ]
  },
  {
   "cell_type": "code",
   "execution_count": 3,
   "id": "bf42ee5b-d4fb-4250-accc-6b096ce5dab2",
   "metadata": {},
   "outputs": [
    {
     "data": {
      "text/html": [
       "<div>\n",
       "<style scoped>\n",
       "    .dataframe tbody tr th:only-of-type {\n",
       "        vertical-align: middle;\n",
       "    }\n",
       "\n",
       "    .dataframe tbody tr th {\n",
       "        vertical-align: top;\n",
       "    }\n",
       "\n",
       "    .dataframe thead tr th {\n",
       "        text-align: left;\n",
       "    }\n",
       "\n",
       "    .dataframe thead tr:last-of-type th {\n",
       "        text-align: right;\n",
       "    }\n",
       "</style>\n",
       "<table border=\"1\" class=\"dataframe\">\n",
       "  <thead>\n",
       "    <tr>\n",
       "      <th>Price</th>\n",
       "      <th>Close</th>\n",
       "      <th>High</th>\n",
       "      <th>Low</th>\n",
       "      <th>Open</th>\n",
       "      <th>Volume</th>\n",
       "    </tr>\n",
       "    <tr>\n",
       "      <th>Ticker</th>\n",
       "      <th>GOOGL</th>\n",
       "      <th>GOOGL</th>\n",
       "      <th>GOOGL</th>\n",
       "      <th>GOOGL</th>\n",
       "      <th>GOOGL</th>\n",
       "    </tr>\n",
       "    <tr>\n",
       "      <th>Date</th>\n",
       "      <th></th>\n",
       "      <th></th>\n",
       "      <th></th>\n",
       "      <th></th>\n",
       "      <th></th>\n",
       "    </tr>\n",
       "  </thead>\n",
       "  <tbody>\n",
       "    <tr>\n",
       "      <th>2025-01-08</th>\n",
       "      <td>193.949997</td>\n",
       "      <td>196.289993</td>\n",
       "      <td>192.380005</td>\n",
       "      <td>192.570007</td>\n",
       "      <td>24864800</td>\n",
       "    </tr>\n",
       "    <tr>\n",
       "      <th>2025-01-10</th>\n",
       "      <td>192.039993</td>\n",
       "      <td>196.520004</td>\n",
       "      <td>190.309998</td>\n",
       "      <td>194.300003</td>\n",
       "      <td>26665200</td>\n",
       "    </tr>\n",
       "    <tr>\n",
       "      <th>2025-01-13</th>\n",
       "      <td>191.009995</td>\n",
       "      <td>191.179993</td>\n",
       "      <td>187.360001</td>\n",
       "      <td>190.070007</td>\n",
       "      <td>21823700</td>\n",
       "    </tr>\n",
       "    <tr>\n",
       "      <th>2025-01-14</th>\n",
       "      <td>189.660004</td>\n",
       "      <td>191.979996</td>\n",
       "      <td>188.309998</td>\n",
       "      <td>191.240005</td>\n",
       "      <td>17174900</td>\n",
       "    </tr>\n",
       "    <tr>\n",
       "      <th>2025-01-15</th>\n",
       "      <td>195.550003</td>\n",
       "      <td>196.360001</td>\n",
       "      <td>191.860001</td>\n",
       "      <td>193.089996</td>\n",
       "      <td>21752900</td>\n",
       "    </tr>\n",
       "  </tbody>\n",
       "</table>\n",
       "</div>"
      ],
      "text/plain": [
       "Price            Close        High         Low        Open    Volume\n",
       "Ticker           GOOGL       GOOGL       GOOGL       GOOGL     GOOGL\n",
       "Date                                                                \n",
       "2025-01-08  193.949997  196.289993  192.380005  192.570007  24864800\n",
       "2025-01-10  192.039993  196.520004  190.309998  194.300003  26665200\n",
       "2025-01-13  191.009995  191.179993  187.360001  190.070007  21823700\n",
       "2025-01-14  189.660004  191.979996  188.309998  191.240005  17174900\n",
       "2025-01-15  195.550003  196.360001  191.860001  193.089996  21752900"
      ]
     },
     "execution_count": 3,
     "metadata": {},
     "output_type": "execute_result"
    }
   ],
   "source": [
    "google_data.tail()"
   ]
  },
  {
   "cell_type": "code",
   "execution_count": 4,
   "id": "64155ebd-d7ad-42b8-86d8-bf0dc76324f1",
   "metadata": {},
   "outputs": [],
   "source": [
    "google_data.columns = google_data.columns.droplevel(1)"
   ]
  },
  {
   "cell_type": "code",
   "execution_count": 5,
   "id": "bb9ced23-9708-45a0-86e6-f259b2fcd676",
   "metadata": {},
   "outputs": [
    {
     "data": {
      "text/html": [
       "<div>\n",
       "<style scoped>\n",
       "    .dataframe tbody tr th:only-of-type {\n",
       "        vertical-align: middle;\n",
       "    }\n",
       "\n",
       "    .dataframe tbody tr th {\n",
       "        vertical-align: top;\n",
       "    }\n",
       "\n",
       "    .dataframe thead th {\n",
       "        text-align: right;\n",
       "    }\n",
       "</style>\n",
       "<table border=\"1\" class=\"dataframe\">\n",
       "  <thead>\n",
       "    <tr style=\"text-align: right;\">\n",
       "      <th>Price</th>\n",
       "      <th>Close</th>\n",
       "      <th>High</th>\n",
       "      <th>Low</th>\n",
       "      <th>Open</th>\n",
       "      <th>Volume</th>\n",
       "    </tr>\n",
       "    <tr>\n",
       "      <th>Date</th>\n",
       "      <th></th>\n",
       "      <th></th>\n",
       "      <th></th>\n",
       "      <th></th>\n",
       "      <th></th>\n",
       "    </tr>\n",
       "  </thead>\n",
       "  <tbody>\n",
       "    <tr>\n",
       "      <th>2015-01-20</th>\n",
       "      <td>25.404905</td>\n",
       "      <td>25.687382</td>\n",
       "      <td>25.376509</td>\n",
       "      <td>25.545895</td>\n",
       "      <td>46796000</td>\n",
       "    </tr>\n",
       "    <tr>\n",
       "      <th>2015-01-21</th>\n",
       "      <td>25.925518</td>\n",
       "      <td>25.998254</td>\n",
       "      <td>25.387468</td>\n",
       "      <td>25.449742</td>\n",
       "      <td>46356000</td>\n",
       "    </tr>\n",
       "    <tr>\n",
       "      <th>2015-01-22</th>\n",
       "      <td>26.767963</td>\n",
       "      <td>26.844685</td>\n",
       "      <td>26.001244</td>\n",
       "      <td>26.055546</td>\n",
       "      <td>56068000</td>\n",
       "    </tr>\n",
       "    <tr>\n",
       "      <th>2015-01-23</th>\n",
       "      <td>26.999622</td>\n",
       "      <td>27.171998</td>\n",
       "      <td>26.690743</td>\n",
       "      <td>26.804331</td>\n",
       "      <td>45966000</td>\n",
       "    </tr>\n",
       "    <tr>\n",
       "      <th>2015-01-26</th>\n",
       "      <td>26.739069</td>\n",
       "      <td>26.977206</td>\n",
       "      <td>26.507409</td>\n",
       "      <td>26.977206</td>\n",
       "      <td>30932000</td>\n",
       "    </tr>\n",
       "  </tbody>\n",
       "</table>\n",
       "</div>"
      ],
      "text/plain": [
       "Price           Close       High        Low       Open    Volume\n",
       "Date                                                            \n",
       "2015-01-20  25.404905  25.687382  25.376509  25.545895  46796000\n",
       "2015-01-21  25.925518  25.998254  25.387468  25.449742  46356000\n",
       "2015-01-22  26.767963  26.844685  26.001244  26.055546  56068000\n",
       "2015-01-23  26.999622  27.171998  26.690743  26.804331  45966000\n",
       "2015-01-26  26.739069  26.977206  26.507409  26.977206  30932000"
      ]
     },
     "execution_count": 5,
     "metadata": {},
     "output_type": "execute_result"
    }
   ],
   "source": [
    "google_data.head()"
   ]
  },
  {
   "cell_type": "code",
   "execution_count": 6,
   "id": "72aa20f3-bac3-4525-9fe6-e09c3e04734f",
   "metadata": {},
   "outputs": [
    {
     "data": {
      "text/plain": [
       "(2514, 5)"
      ]
     },
     "execution_count": 6,
     "metadata": {},
     "output_type": "execute_result"
    }
   ],
   "source": [
    "google_data.shape"
   ]
  },
  {
   "cell_type": "code",
   "execution_count": 7,
   "id": "b08f69d6-be69-47ac-a8b5-cf5dcfe94261",
   "metadata": {},
   "outputs": [
    {
     "data": {
      "text/plain": [
       "DatetimeIndex(['2015-01-20', '2015-01-21', '2015-01-22', '2015-01-23',\n",
       "               '2015-01-26', '2015-01-27', '2015-01-28', '2015-01-29',\n",
       "               '2015-01-30', '2015-02-02',\n",
       "               ...\n",
       "               '2024-12-31', '2025-01-02', '2025-01-03', '2025-01-06',\n",
       "               '2025-01-07', '2025-01-08', '2025-01-10', '2025-01-13',\n",
       "               '2025-01-14', '2025-01-15'],\n",
       "              dtype='datetime64[ns]', name='Date', length=2514, freq=None)"
      ]
     },
     "execution_count": 7,
     "metadata": {},
     "output_type": "execute_result"
    }
   ],
   "source": [
    "google_data.index"
   ]
  },
  {
   "cell_type": "code",
   "execution_count": 8,
   "id": "9f58bf08-9d86-4d64-9796-cf7e85ba47f4",
   "metadata": {},
   "outputs": [],
   "source": [
    "import pandas as pd\n",
    "google_data.index = pd.to_datetime(google_data.index)\n",
    "train_data = google_data[google_data.index.year < 2024]\n",
    "test_data = google_data[google_data.index.year == 2024]"
   ]
  },
  {
   "cell_type": "code",
   "execution_count": 9,
   "id": "b83148a1-9d6b-4d05-913d-e0c838950113",
   "metadata": {},
   "outputs": [
    {
     "data": {
      "text/html": [
       "<div>\n",
       "<style scoped>\n",
       "    .dataframe tbody tr th:only-of-type {\n",
       "        vertical-align: middle;\n",
       "    }\n",
       "\n",
       "    .dataframe tbody tr th {\n",
       "        vertical-align: top;\n",
       "    }\n",
       "\n",
       "    .dataframe thead th {\n",
       "        text-align: right;\n",
       "    }\n",
       "</style>\n",
       "<table border=\"1\" class=\"dataframe\">\n",
       "  <thead>\n",
       "    <tr style=\"text-align: right;\">\n",
       "      <th>Price</th>\n",
       "      <th>Close</th>\n",
       "      <th>High</th>\n",
       "      <th>Low</th>\n",
       "      <th>Open</th>\n",
       "      <th>Volume</th>\n",
       "    </tr>\n",
       "    <tr>\n",
       "      <th>Date</th>\n",
       "      <th></th>\n",
       "      <th></th>\n",
       "      <th></th>\n",
       "      <th></th>\n",
       "      <th></th>\n",
       "    </tr>\n",
       "  </thead>\n",
       "  <tbody>\n",
       "    <tr>\n",
       "      <th>2015-01-20</th>\n",
       "      <td>25.404905</td>\n",
       "      <td>25.687382</td>\n",
       "      <td>25.376509</td>\n",
       "      <td>25.545895</td>\n",
       "      <td>46796000</td>\n",
       "    </tr>\n",
       "    <tr>\n",
       "      <th>2015-01-21</th>\n",
       "      <td>25.925518</td>\n",
       "      <td>25.998254</td>\n",
       "      <td>25.387468</td>\n",
       "      <td>25.449742</td>\n",
       "      <td>46356000</td>\n",
       "    </tr>\n",
       "    <tr>\n",
       "      <th>2015-01-22</th>\n",
       "      <td>26.767963</td>\n",
       "      <td>26.844685</td>\n",
       "      <td>26.001244</td>\n",
       "      <td>26.055546</td>\n",
       "      <td>56068000</td>\n",
       "    </tr>\n",
       "    <tr>\n",
       "      <th>2015-01-23</th>\n",
       "      <td>26.999622</td>\n",
       "      <td>27.171998</td>\n",
       "      <td>26.690743</td>\n",
       "      <td>26.804331</td>\n",
       "      <td>45966000</td>\n",
       "    </tr>\n",
       "    <tr>\n",
       "      <th>2015-01-26</th>\n",
       "      <td>26.739069</td>\n",
       "      <td>26.977206</td>\n",
       "      <td>26.507409</td>\n",
       "      <td>26.977206</td>\n",
       "      <td>30932000</td>\n",
       "    </tr>\n",
       "  </tbody>\n",
       "</table>\n",
       "</div>"
      ],
      "text/plain": [
       "Price           Close       High        Low       Open    Volume\n",
       "Date                                                            \n",
       "2015-01-20  25.404905  25.687382  25.376509  25.545895  46796000\n",
       "2015-01-21  25.925518  25.998254  25.387468  25.449742  46356000\n",
       "2015-01-22  26.767963  26.844685  26.001244  26.055546  56068000\n",
       "2015-01-23  26.999622  27.171998  26.690743  26.804331  45966000\n",
       "2015-01-26  26.739069  26.977206  26.507409  26.977206  30932000"
      ]
     },
     "execution_count": 9,
     "metadata": {},
     "output_type": "execute_result"
    }
   ],
   "source": [
    "train_data.head()"
   ]
  },
  {
   "cell_type": "code",
   "execution_count": 10,
   "id": "adedccd5-ad9e-4bb5-93b8-42e8103e1547",
   "metadata": {},
   "outputs": [
    {
     "data": {
      "text/html": [
       "<div>\n",
       "<style scoped>\n",
       "    .dataframe tbody tr th:only-of-type {\n",
       "        vertical-align: middle;\n",
       "    }\n",
       "\n",
       "    .dataframe tbody tr th {\n",
       "        vertical-align: top;\n",
       "    }\n",
       "\n",
       "    .dataframe thead th {\n",
       "        text-align: right;\n",
       "    }\n",
       "</style>\n",
       "<table border=\"1\" class=\"dataframe\">\n",
       "  <thead>\n",
       "    <tr style=\"text-align: right;\">\n",
       "      <th>Price</th>\n",
       "      <th>Close</th>\n",
       "      <th>High</th>\n",
       "      <th>Low</th>\n",
       "      <th>Open</th>\n",
       "      <th>Volume</th>\n",
       "    </tr>\n",
       "    <tr>\n",
       "      <th>Date</th>\n",
       "      <th></th>\n",
       "      <th></th>\n",
       "      <th></th>\n",
       "      <th></th>\n",
       "      <th></th>\n",
       "    </tr>\n",
       "  </thead>\n",
       "  <tbody>\n",
       "    <tr>\n",
       "      <th>2024-01-02</th>\n",
       "      <td>137.670929</td>\n",
       "      <td>138.946304</td>\n",
       "      <td>135.987031</td>\n",
       "      <td>138.049561</td>\n",
       "      <td>23711200</td>\n",
       "    </tr>\n",
       "    <tr>\n",
       "      <th>2024-01-03</th>\n",
       "      <td>138.418228</td>\n",
       "      <td>139.125670</td>\n",
       "      <td>136.584878</td>\n",
       "      <td>136.754262</td>\n",
       "      <td>24212100</td>\n",
       "    </tr>\n",
       "    <tr>\n",
       "      <th>2024-01-04</th>\n",
       "      <td>135.897369</td>\n",
       "      <td>138.657369</td>\n",
       "      <td>135.857521</td>\n",
       "      <td>137.920036</td>\n",
       "      <td>27137700</td>\n",
       "    </tr>\n",
       "    <tr>\n",
       "      <th>2024-01-05</th>\n",
       "      <td>135.239731</td>\n",
       "      <td>136.664573</td>\n",
       "      <td>134.661824</td>\n",
       "      <td>136.256051</td>\n",
       "      <td>22506000</td>\n",
       "    </tr>\n",
       "    <tr>\n",
       "      <th>2024-01-08</th>\n",
       "      <td>138.338516</td>\n",
       "      <td>138.507900</td>\n",
       "      <td>135.767833</td>\n",
       "      <td>135.797724</td>\n",
       "      <td>21404000</td>\n",
       "    </tr>\n",
       "    <tr>\n",
       "      <th>...</th>\n",
       "      <td>...</td>\n",
       "      <td>...</td>\n",
       "      <td>...</td>\n",
       "      <td>...</td>\n",
       "      <td>...</td>\n",
       "    </tr>\n",
       "    <tr>\n",
       "      <th>2024-12-24</th>\n",
       "      <td>196.110001</td>\n",
       "      <td>196.110001</td>\n",
       "      <td>193.779999</td>\n",
       "      <td>194.839996</td>\n",
       "      <td>10403300</td>\n",
       "    </tr>\n",
       "    <tr>\n",
       "      <th>2024-12-26</th>\n",
       "      <td>195.600006</td>\n",
       "      <td>196.750000</td>\n",
       "      <td>194.380005</td>\n",
       "      <td>195.149994</td>\n",
       "      <td>12046600</td>\n",
       "    </tr>\n",
       "    <tr>\n",
       "      <th>2024-12-27</th>\n",
       "      <td>192.759995</td>\n",
       "      <td>195.320007</td>\n",
       "      <td>190.649994</td>\n",
       "      <td>194.949997</td>\n",
       "      <td>18891400</td>\n",
       "    </tr>\n",
       "    <tr>\n",
       "      <th>2024-12-30</th>\n",
       "      <td>191.240005</td>\n",
       "      <td>192.550003</td>\n",
       "      <td>189.119995</td>\n",
       "      <td>189.800003</td>\n",
       "      <td>14264700</td>\n",
       "    </tr>\n",
       "    <tr>\n",
       "      <th>2024-12-31</th>\n",
       "      <td>189.300003</td>\n",
       "      <td>191.960007</td>\n",
       "      <td>188.509995</td>\n",
       "      <td>191.080002</td>\n",
       "      <td>17466900</td>\n",
       "    </tr>\n",
       "  </tbody>\n",
       "</table>\n",
       "<p>252 rows × 5 columns</p>\n",
       "</div>"
      ],
      "text/plain": [
       "Price            Close        High         Low        Open    Volume\n",
       "Date                                                                \n",
       "2024-01-02  137.670929  138.946304  135.987031  138.049561  23711200\n",
       "2024-01-03  138.418228  139.125670  136.584878  136.754262  24212100\n",
       "2024-01-04  135.897369  138.657369  135.857521  137.920036  27137700\n",
       "2024-01-05  135.239731  136.664573  134.661824  136.256051  22506000\n",
       "2024-01-08  138.338516  138.507900  135.767833  135.797724  21404000\n",
       "...                ...         ...         ...         ...       ...\n",
       "2024-12-24  196.110001  196.110001  193.779999  194.839996  10403300\n",
       "2024-12-26  195.600006  196.750000  194.380005  195.149994  12046600\n",
       "2024-12-27  192.759995  195.320007  190.649994  194.949997  18891400\n",
       "2024-12-30  191.240005  192.550003  189.119995  189.800003  14264700\n",
       "2024-12-31  189.300003  191.960007  188.509995  191.080002  17466900\n",
       "\n",
       "[252 rows x 5 columns]"
      ]
     },
     "execution_count": 10,
     "metadata": {},
     "output_type": "execute_result"
    }
   ],
   "source": [
    "test_data"
   ]
  },
  {
   "cell_type": "code",
   "execution_count": 11,
   "id": "0b2b9bee-9bc6-4c44-b7b8-6bb5ed8a23e6",
   "metadata": {},
   "outputs": [
    {
     "data": {
      "text/plain": [
       "(2253, 5)"
      ]
     },
     "execution_count": 11,
     "metadata": {},
     "output_type": "execute_result"
    }
   ],
   "source": [
    "train_data.shape"
   ]
  },
  {
   "cell_type": "code",
   "execution_count": 12,
   "id": "29548dec-1dbb-4595-af4c-ab68b1e774f6",
   "metadata": {},
   "outputs": [],
   "source": [
    "training_set = train_data.iloc[:, 3:4].values"
   ]
  },
  {
   "cell_type": "code",
   "execution_count": 13,
   "id": "928bf27e-15cb-43d1-80b3-0513f6523713",
   "metadata": {},
   "outputs": [
    {
     "data": {
      "text/plain": [
       "array([[ 25.5458947 ],\n",
       "       [ 25.44974186],\n",
       "       [ 26.05554584],\n",
       "       ...,\n",
       "       [141.07857063],\n",
       "       [140.27149665],\n",
       "       [139.12565922]])"
      ]
     },
     "execution_count": 13,
     "metadata": {},
     "output_type": "execute_result"
    }
   ],
   "source": [
    "training_set"
   ]
  },
  {
   "cell_type": "code",
   "execution_count": 14,
   "id": "e86ad4ce-d15c-4a6c-b15d-6336b96a4f57",
   "metadata": {},
   "outputs": [],
   "source": [
    "from sklearn.preprocessing import MinMaxScaler\n",
    "sc = MinMaxScaler(feature_range = (0, 1))\n",
    "training_set_scaled = sc.fit_transform(training_set)"
   ]
  },
  {
   "cell_type": "code",
   "execution_count": 15,
   "id": "089fbfd7-ca98-493f-b008-64286c1e22d6",
   "metadata": {},
   "outputs": [
    {
     "data": {
      "text/plain": [
       "array([[7.67663070e-04],\n",
       "       [0.00000000e+00],\n",
       "       [4.83660546e-03],\n",
       "       ...,\n",
       "       [9.23155087e-01],\n",
       "       [9.16711586e-01],\n",
       "       [9.07563473e-01]])"
      ]
     },
     "execution_count": 15,
     "metadata": {},
     "output_type": "execute_result"
    }
   ],
   "source": [
    "training_set_scaled"
   ]
  },
  {
   "cell_type": "code",
   "execution_count": 16,
   "id": "49afb091-7483-4a7c-8e86-9670e7c1bbf9",
   "metadata": {},
   "outputs": [],
   "source": [
    "import numpy as np\n",
    "import matplotlib.pyplot as plt"
   ]
  },
  {
   "cell_type": "code",
   "execution_count": 17,
   "id": "1560a1f8-3564-4c54-b57f-93246783b605",
   "metadata": {},
   "outputs": [
    {
     "data": {
      "text/plain": [
       "(2253, 1)"
      ]
     },
     "execution_count": 17,
     "metadata": {},
     "output_type": "execute_result"
    }
   ],
   "source": [
    "training_set_scaled.shape"
   ]
  },
  {
   "cell_type": "code",
   "execution_count": 18,
   "id": "4d2690d4-7f54-4ff8-af0a-a2b9afda69e7",
   "metadata": {},
   "outputs": [],
   "source": [
    "X_train = []\n",
    "y_train = []\n",
    "time_step = 120\n",
    "for i in range(time_step, training_set_scaled.shape[0]):\n",
    "    X_train.append(training_set_scaled[i - time_step : i, 0])\n",
    "    y_train.append(training_set_scaled[i, 0])\n",
    "X_train, y_train = np.array(X_train), np.array(y_train)"
   ]
  },
  {
   "cell_type": "code",
   "execution_count": 19,
   "id": "4485a69d-462f-4cfe-b967-56f1a2cf7331",
   "metadata": {},
   "outputs": [
    {
     "data": {
      "text/plain": [
       "array([[7.67663070e-04, 0.00000000e+00, 4.83660546e-03, ...,\n",
       "        1.38257082e-02, 1.50388277e-02, 1.70514015e-02],\n",
       "       [0.00000000e+00, 4.83660546e-03, 1.08147424e-02, ...,\n",
       "        1.50388277e-02, 1.70514015e-02, 1.93583572e-02],\n",
       "       [4.83660546e-03, 1.08147424e-02, 1.21949374e-02, ...,\n",
       "        1.70514015e-02, 1.93583572e-02, 2.53206012e-02],\n",
       "       ...,\n",
       "       [7.52203396e-01, 7.37884567e-01, 7.21895157e-01, ...,\n",
       "        9.06449762e-01, 9.16632113e-01, 9.23155115e-01],\n",
       "       [7.37884567e-01, 7.21895157e-01, 7.41862045e-01, ...,\n",
       "        9.16632113e-01, 9.23155115e-01, 9.23155087e-01],\n",
       "       [7.21895157e-01, 7.41862045e-01, 7.58806047e-01, ...,\n",
       "        9.23155115e-01, 9.23155087e-01, 9.16711586e-01]])"
      ]
     },
     "execution_count": 19,
     "metadata": {},
     "output_type": "execute_result"
    }
   ],
   "source": [
    "X_train"
   ]
  },
  {
   "cell_type": "code",
   "execution_count": 20,
   "id": "22a28cfb-8801-474c-885d-00440a27a670",
   "metadata": {},
   "outputs": [
    {
     "data": {
      "text/plain": [
       "array([0.01935836, 0.0253206 , 0.02899577, ..., 0.92315509, 0.91671159,\n",
       "       0.90756347])"
      ]
     },
     "execution_count": 20,
     "metadata": {},
     "output_type": "execute_result"
    }
   ],
   "source": [
    "y_train"
   ]
  },
  {
   "cell_type": "code",
   "execution_count": 21,
   "id": "a5df9027-7848-4208-a64b-3c8296b66334",
   "metadata": {},
   "outputs": [],
   "source": [
    "X_train = np.reshape(X_train, (X_train.shape[0], X_train.shape[1], 1)) "
   ]
  },
  {
   "cell_type": "code",
   "execution_count": 22,
   "id": "eeee26c5-bf52-4c31-9b21-b102b8c94b2b",
   "metadata": {},
   "outputs": [],
   "source": [
    "from tensorflow.keras.models import Sequential\n",
    "from tensorflow.keras.layers import LSTM, Dense, Dropout\n",
    "\n",
    "import warnings\n",
    "warnings.filterwarnings('ignore')"
   ]
  },
  {
   "cell_type": "code",
   "execution_count": 23,
   "id": "ec23bcaa-ec1e-4c53-8f61-19ca60282be8",
   "metadata": {},
   "outputs": [],
   "source": [
    "regressor = Sequential()"
   ]
  },
  {
   "cell_type": "code",
   "execution_count": 24,
   "id": "65abc537-748e-4e2a-a06c-493d6d554e96",
   "metadata": {},
   "outputs": [],
   "source": [
    "regressor.add(LSTM(units = 70, return_sequences=True, input_shape = (X_train.shape[1], 1)))\n",
    "regressor.add(Dropout(0.2))"
   ]
  },
  {
   "cell_type": "code",
   "execution_count": 25,
   "id": "778051e0-7217-4fa3-847e-7533a0549cb2",
   "metadata": {},
   "outputs": [],
   "source": [
    "regressor.add(LSTM(units = 70, return_sequences=True))\n",
    "regressor.add(Dropout(0.2))"
   ]
  },
  {
   "cell_type": "code",
   "execution_count": 26,
   "id": "59ad6244-4a4e-455e-a59a-ab01a493e6e8",
   "metadata": {},
   "outputs": [],
   "source": [
    "regressor.add(LSTM(units = 70, return_sequences=True))\n",
    "regressor.add(Dropout(0.2))"
   ]
  },
  {
   "cell_type": "code",
   "execution_count": 27,
   "id": "b6d3a4d3-2fdd-4de0-ba92-b870df928c5d",
   "metadata": {},
   "outputs": [],
   "source": [
    "regressor.add(LSTM(units = 70))\n",
    "regressor.add(Dropout(0.2))"
   ]
  },
  {
   "cell_type": "code",
   "execution_count": 28,
   "id": "cc1d2998-6d2c-47fc-b1bf-3b7a1443d0ff",
   "metadata": {},
   "outputs": [],
   "source": [
    "regressor.add(Dense(units = 1))"
   ]
  },
  {
   "cell_type": "code",
   "execution_count": 29,
   "id": "38bf5e73-65bb-4c67-9a69-8c82a3bc5af5",
   "metadata": {},
   "outputs": [],
   "source": [
    "regressor.compile(optimizer = 'adam', loss = 'mean_squared_error')"
   ]
  },
  {
   "cell_type": "code",
   "execution_count": 30,
   "id": "86bccaa1-655f-449c-ac95-a8258a107be5",
   "metadata": {},
   "outputs": [
    {
     "name": "stdout",
     "output_type": "stream",
     "text": [
      "Epoch 1/20\n",
      "\u001b[1m67/67\u001b[0m \u001b[32m━━━━━━━━━━━━━━━━━━━━\u001b[0m\u001b[37m\u001b[0m \u001b[1m30s\u001b[0m 286ms/step - loss: 0.0488\n",
      "Epoch 2/20\n",
      "\u001b[1m67/67\u001b[0m \u001b[32m━━━━━━━━━━━━━━━━━━━━\u001b[0m\u001b[37m\u001b[0m \u001b[1m19s\u001b[0m 279ms/step - loss: 0.0045\n",
      "Epoch 3/20\n",
      "\u001b[1m67/67\u001b[0m \u001b[32m━━━━━━━━━━━━━━━━━━━━\u001b[0m\u001b[37m\u001b[0m \u001b[1m19s\u001b[0m 279ms/step - loss: 0.0035\n",
      "Epoch 4/20\n",
      "\u001b[1m67/67\u001b[0m \u001b[32m━━━━━━━━━━━━━━━━━━━━\u001b[0m\u001b[37m\u001b[0m \u001b[1m20s\u001b[0m 292ms/step - loss: 0.0029\n",
      "Epoch 5/20\n",
      "\u001b[1m67/67\u001b[0m \u001b[32m━━━━━━━━━━━━━━━━━━━━\u001b[0m\u001b[37m\u001b[0m \u001b[1m19s\u001b[0m 282ms/step - loss: 0.0030\n",
      "Epoch 6/20\n",
      "\u001b[1m67/67\u001b[0m \u001b[32m━━━━━━━━━━━━━━━━━━━━\u001b[0m\u001b[37m\u001b[0m \u001b[1m19s\u001b[0m 289ms/step - loss: 0.0027\n",
      "Epoch 7/20\n",
      "\u001b[1m67/67\u001b[0m \u001b[32m━━━━━━━━━━━━━━━━━━━━\u001b[0m\u001b[37m\u001b[0m \u001b[1m19s\u001b[0m 284ms/step - loss: 0.0028\n",
      "Epoch 8/20\n",
      "\u001b[1m67/67\u001b[0m \u001b[32m━━━━━━━━━━━━━━━━━━━━\u001b[0m\u001b[37m\u001b[0m \u001b[1m20s\u001b[0m 296ms/step - loss: 0.0022\n",
      "Epoch 9/20\n",
      "\u001b[1m67/67\u001b[0m \u001b[32m━━━━━━━━━━━━━━━━━━━━\u001b[0m\u001b[37m\u001b[0m \u001b[1m20s\u001b[0m 291ms/step - loss: 0.0025\n",
      "Epoch 10/20\n",
      "\u001b[1m67/67\u001b[0m \u001b[32m━━━━━━━━━━━━━━━━━━━━\u001b[0m\u001b[37m\u001b[0m \u001b[1m19s\u001b[0m 287ms/step - loss: 0.0028\n",
      "Epoch 11/20\n",
      "\u001b[1m67/67\u001b[0m \u001b[32m━━━━━━━━━━━━━━━━━━━━\u001b[0m\u001b[37m\u001b[0m \u001b[1m19s\u001b[0m 277ms/step - loss: 0.0022\n",
      "Epoch 12/20\n",
      "\u001b[1m67/67\u001b[0m \u001b[32m━━━━━━━━━━━━━━━━━━━━\u001b[0m\u001b[37m\u001b[0m \u001b[1m20s\u001b[0m 291ms/step - loss: 0.0023\n",
      "Epoch 13/20\n",
      "\u001b[1m67/67\u001b[0m \u001b[32m━━━━━━━━━━━━━━━━━━━━\u001b[0m\u001b[37m\u001b[0m \u001b[1m20s\u001b[0m 292ms/step - loss: 0.0020\n",
      "Epoch 14/20\n",
      "\u001b[1m67/67\u001b[0m \u001b[32m━━━━━━━━━━━━━━━━━━━━\u001b[0m\u001b[37m\u001b[0m \u001b[1m19s\u001b[0m 282ms/step - loss: 0.0018\n",
      "Epoch 15/20\n",
      "\u001b[1m67/67\u001b[0m \u001b[32m━━━━━━━━━━━━━━━━━━━━\u001b[0m\u001b[37m\u001b[0m \u001b[1m18s\u001b[0m 267ms/step - loss: 0.0023\n",
      "Epoch 16/20\n",
      "\u001b[1m67/67\u001b[0m \u001b[32m━━━━━━━━━━━━━━━━━━━━\u001b[0m\u001b[37m\u001b[0m \u001b[1m19s\u001b[0m 286ms/step - loss: 0.0017\n",
      "Epoch 17/20\n",
      "\u001b[1m67/67\u001b[0m \u001b[32m━━━━━━━━━━━━━━━━━━━━\u001b[0m\u001b[37m\u001b[0m \u001b[1m19s\u001b[0m 288ms/step - loss: 0.0022\n",
      "Epoch 18/20\n",
      "\u001b[1m67/67\u001b[0m \u001b[32m━━━━━━━━━━━━━━━━━━━━\u001b[0m\u001b[37m\u001b[0m \u001b[1m18s\u001b[0m 273ms/step - loss: 0.0021\n",
      "Epoch 19/20\n",
      "\u001b[1m67/67\u001b[0m \u001b[32m━━━━━━━━━━━━━━━━━━━━\u001b[0m\u001b[37m\u001b[0m \u001b[1m21s\u001b[0m 320ms/step - loss: 0.0019\n",
      "Epoch 20/20\n",
      "\u001b[1m67/67\u001b[0m \u001b[32m━━━━━━━━━━━━━━━━━━━━\u001b[0m\u001b[37m\u001b[0m \u001b[1m19s\u001b[0m 288ms/step - loss: 0.0017\n"
     ]
    },
    {
     "data": {
      "text/plain": [
       "<keras.src.callbacks.history.History at 0x1c06fcb3410>"
      ]
     },
     "execution_count": 30,
     "metadata": {},
     "output_type": "execute_result"
    }
   ],
   "source": [
    "regressor.fit(X_train, y_train, epochs = 20, batch_size = 32)"
   ]
  },
  {
   "cell_type": "code",
   "execution_count": 31,
   "id": "81d592ad-400f-457e-a429-b5077f988d9c",
   "metadata": {},
   "outputs": [
    {
     "data": {
      "text/html": [
       "<div>\n",
       "<style scoped>\n",
       "    .dataframe tbody tr th:only-of-type {\n",
       "        vertical-align: middle;\n",
       "    }\n",
       "\n",
       "    .dataframe tbody tr th {\n",
       "        vertical-align: top;\n",
       "    }\n",
       "\n",
       "    .dataframe thead th {\n",
       "        text-align: right;\n",
       "    }\n",
       "</style>\n",
       "<table border=\"1\" class=\"dataframe\">\n",
       "  <thead>\n",
       "    <tr style=\"text-align: right;\">\n",
       "      <th>Price</th>\n",
       "      <th>Close</th>\n",
       "      <th>High</th>\n",
       "      <th>Low</th>\n",
       "      <th>Open</th>\n",
       "      <th>Volume</th>\n",
       "    </tr>\n",
       "    <tr>\n",
       "      <th>Date</th>\n",
       "      <th></th>\n",
       "      <th></th>\n",
       "      <th></th>\n",
       "      <th></th>\n",
       "      <th></th>\n",
       "    </tr>\n",
       "  </thead>\n",
       "  <tbody>\n",
       "    <tr>\n",
       "      <th>2024-01-02</th>\n",
       "      <td>137.670929</td>\n",
       "      <td>138.946304</td>\n",
       "      <td>135.987031</td>\n",
       "      <td>138.049561</td>\n",
       "      <td>23711200</td>\n",
       "    </tr>\n",
       "    <tr>\n",
       "      <th>2024-01-03</th>\n",
       "      <td>138.418228</td>\n",
       "      <td>139.125670</td>\n",
       "      <td>136.584878</td>\n",
       "      <td>136.754262</td>\n",
       "      <td>24212100</td>\n",
       "    </tr>\n",
       "    <tr>\n",
       "      <th>2024-01-04</th>\n",
       "      <td>135.897369</td>\n",
       "      <td>138.657369</td>\n",
       "      <td>135.857521</td>\n",
       "      <td>137.920036</td>\n",
       "      <td>27137700</td>\n",
       "    </tr>\n",
       "    <tr>\n",
       "      <th>2024-01-05</th>\n",
       "      <td>135.239731</td>\n",
       "      <td>136.664573</td>\n",
       "      <td>134.661824</td>\n",
       "      <td>136.256051</td>\n",
       "      <td>22506000</td>\n",
       "    </tr>\n",
       "    <tr>\n",
       "      <th>2024-01-08</th>\n",
       "      <td>138.338516</td>\n",
       "      <td>138.507900</td>\n",
       "      <td>135.767833</td>\n",
       "      <td>135.797724</td>\n",
       "      <td>21404000</td>\n",
       "    </tr>\n",
       "  </tbody>\n",
       "</table>\n",
       "</div>"
      ],
      "text/plain": [
       "Price            Close        High         Low        Open    Volume\n",
       "Date                                                                \n",
       "2024-01-02  137.670929  138.946304  135.987031  138.049561  23711200\n",
       "2024-01-03  138.418228  139.125670  136.584878  136.754262  24212100\n",
       "2024-01-04  135.897369  138.657369  135.857521  137.920036  27137700\n",
       "2024-01-05  135.239731  136.664573  134.661824  136.256051  22506000\n",
       "2024-01-08  138.338516  138.507900  135.767833  135.797724  21404000"
      ]
     },
     "execution_count": 31,
     "metadata": {},
     "output_type": "execute_result"
    }
   ],
   "source": [
    "test_data.head()"
   ]
  },
  {
   "cell_type": "code",
   "execution_count": 32,
   "id": "06fe9d72-c35d-4b4a-a74b-bbb0478b83ec",
   "metadata": {},
   "outputs": [],
   "source": [
    "real_stock_price = test_data.iloc[:, 3:4].values"
   ]
  },
  {
   "cell_type": "code",
   "execution_count": 33,
   "id": "3031dd1e-57a0-4ad2-9859-05af44c8aa17",
   "metadata": {},
   "outputs": [
    {
     "data": {
      "text/plain": [
       "Date\n",
       "2015-01-20     25.545895\n",
       "2015-01-21     25.449742\n",
       "2015-01-22     26.055546\n",
       "2015-01-23     26.804331\n",
       "2015-01-26     26.977206\n",
       "                 ...    \n",
       "2024-12-24    194.839996\n",
       "2024-12-26    195.149994\n",
       "2024-12-27    194.949997\n",
       "2024-12-30    189.800003\n",
       "2024-12-31    191.080002\n",
       "Name: Open, Length: 2505, dtype: float64"
      ]
     },
     "execution_count": 33,
     "metadata": {},
     "output_type": "execute_result"
    }
   ],
   "source": [
    "dataset_total  = pd.concat((train_data['Open'], test_data['Open']), axis = 0)\n",
    "dataset_total"
   ]
  },
  {
   "cell_type": "code",
   "execution_count": 34,
   "id": "1995a6ff-7a44-4b61-b2bc-22d3a6c726b2",
   "metadata": {},
   "outputs": [],
   "source": [
    "testing_set = test_data.iloc[:,3:4].values"
   ]
  },
  {
   "cell_type": "code",
   "execution_count": 35,
   "id": "33d765f2-95cc-47aa-8604-6db7d3a5bd0c",
   "metadata": {},
   "outputs": [],
   "source": [
    "inputs = dataset_total[len(dataset_total) - len(testing_set) - time_step:].values"
   ]
  },
  {
   "cell_type": "code",
   "execution_count": 36,
   "id": "ee27550f-7abc-465d-8968-2999ed1a4c5d",
   "metadata": {},
   "outputs": [],
   "source": [
    "inputs = inputs.reshape(-1,1)\n",
    "inputs = sc.transform(inputs)"
   ]
  },
  {
   "cell_type": "code",
   "execution_count": 37,
   "id": "2e35da81-a992-4f38-aee9-13496a6b5d55",
   "metadata": {},
   "outputs": [
    {
     "name": "stdout",
     "output_type": "stream",
     "text": [
      "\u001b[1m8/8\u001b[0m \u001b[32m━━━━━━━━━━━━━━━━━━━━\u001b[0m\u001b[37m\u001b[0m \u001b[1m3s\u001b[0m 247ms/step\n"
     ]
    }
   ],
   "source": [
    "X_train = []\n",
    "for i in range(time_step, inputs.shape[0]):\n",
    "    X_train.append(inputs[i - time_step:i, 0])\n",
    "X_train = np.array(X_train)\n",
    "X_train = np.reshape(X_train, (X_train.shape[0], X_train.shape[1], 1))\n",
    "predicted_stock_price = regressor.predict(X_train)\n",
    "predicted_stock_price = sc.inverse_transform(predicted_stock_price)"
   ]
  },
  {
   "cell_type": "code",
   "execution_count": 78,
   "id": "5aaa0542-e548-4ce0-8ad7-ead95251b4c2",
   "metadata": {},
   "outputs": [
    {
     "data": {
      "image/png": "[encoded data removed]",
      "text/plain": [
       "<Figure size 640x480 with 1 Axes>"
      ]
     },
     "metadata": {},
     "output_type": "display_data"
    }
   ],
   "source": [
    "plt.plot(real_stock_price, color = 'red', label = 'Real Google Stock Price')\n",
    "plt.plot(predicted_stock_price, color = 'blue', label = 'Predicted Google Stock Price')\n",
    "plt.title('Google Stock Trend Prediction')\n",
    "plt.xlabel('Time')\n",
    "plt.ylabel('Google Stock Price')\n",
    "plt.legend()\n",
    "plt.show()"
   ]
  },
  {
   "cell_type": "code",
   "execution_count": null,
   "id": "f57ffad3-09c7-47a6-a9aa-281b83793c1b",
   "metadata": {},
   "outputs": [],
   "source": []
  }
 ],
 "metadata": {
  "kernelspec": {
   "display_name": "Python 3 (ipykernel)",
   "language": "python",
   "name": "python3"
  },
  "language_info": {
   "codemirror_mode": {
    "name": "ipython",
    "version": 3
   },
   "file_extension": ".py",
   "mimetype": "text/x-python",
   "name": "python",
   "nbconvert_exporter": "python",
   "pygments_lexer": "ipython3",
   "version": "3.12.4"
  }
 },
 "nbformat": 4,
 "nbformat_minor": 5
}
